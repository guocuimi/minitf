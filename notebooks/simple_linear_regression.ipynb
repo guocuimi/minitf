{
  "nbformat": 4,
  "nbformat_minor": 0,
  "metadata": {
    "colab": {
      "name": "simple_linear_regression.ipynb",
      "provenance": [],
      "collapsed_sections": [],
      "authorship_tag": "ABX9TyPHXpiwFyLMTmaa93H68/sZ",
      "include_colab_link": true
    },
    "kernelspec": {
      "name": "python3",
      "display_name": "Python 3"
    },
    "accelerator": "GPU"
  },
  "cells": [
    {
      "cell_type": "markdown",
      "metadata": {
        "id": "view-in-github",
        "colab_type": "text"
      },
      "source": [
        "<a href=\"https://colab.research.google.com/github/guocuimi/minitf/blob/master/notebooks/simple_linear_regression.ipynb\" target=\"_parent\"><img src=\"https://colab.research.google.com/assets/colab-badge.svg\" alt=\"Open In Colab\"/></a>"
      ]
    },
    {
      "cell_type": "code",
      "metadata": {
        "id": "Is-EB2VMd8cq",
        "colab_type": "code",
        "outputId": "5b7e71cc-af66-464a-c133-da1727bd7aed",
        "colab": {
          "base_uri": "https://localhost:8080/",
          "height": 170
        }
      },
      "source": [
        "!pip install minitf"
      ],
      "execution_count": 3,
      "outputs": [
        {
          "output_type": "stream",
          "text": [
            "Requirement already satisfied: minitf in /usr/local/lib/python3.6/dist-packages (0.2.2)\n",
            "Requirement already satisfied: numpy>=1.9.1 in /usr/local/lib/python3.6/dist-packages (from minitf) (1.17.5)\n",
            "Requirement already satisfied: matplotlib>=3.1.1 in /usr/local/lib/python3.6/dist-packages (from minitf) (3.1.3)\n",
            "Requirement already satisfied: python-dateutil>=2.1 in /usr/local/lib/python3.6/dist-packages (from matplotlib>=3.1.1->minitf) (2.6.1)\n",
            "Requirement already satisfied: pyparsing!=2.0.4,!=2.1.2,!=2.1.6,>=2.0.1 in /usr/local/lib/python3.6/dist-packages (from matplotlib>=3.1.1->minitf) (2.4.6)\n",
            "Requirement already satisfied: cycler>=0.10 in /usr/local/lib/python3.6/dist-packages (from matplotlib>=3.1.1->minitf) (0.10.0)\n",
            "Requirement already satisfied: kiwisolver>=1.0.1 in /usr/local/lib/python3.6/dist-packages (from matplotlib>=3.1.1->minitf) (1.1.0)\n",
            "Requirement already satisfied: six>=1.5 in /usr/local/lib/python3.6/dist-packages (from python-dateutil>=2.1->matplotlib>=3.1.1->minitf) (1.12.0)\n",
            "Requirement already satisfied: setuptools in /usr/local/lib/python3.6/dist-packages (from kiwisolver>=1.0.1->matplotlib>=3.1.1->minitf) (45.1.0)\n"
          ],
          "name": "stdout"
        }
      ]
    },
    {
      "cell_type": "code",
      "metadata": {
        "id": "-cWCgnmKeVDC",
        "colab_type": "code",
        "colab": {}
      },
      "source": [
        "%matplotlib inline\n",
        "import minitf as tf\n",
        "import matplotlib.pyplot as plt\n",
        "# to make this notebook's output stable across runs\n",
        "tf.random.set_seed(42)"
      ],
      "execution_count": 0,
      "outputs": []
    },
    {
      "cell_type": "code",
      "metadata": {
        "id": "CLVHATuKec6p",
        "colab_type": "code",
        "colab": {}
      },
      "source": [
        "# genearte some linear-looking data\n",
        "def synthetic_linear_data(w, b, num_examples):\n",
        "  # type: (float, float, int) -> tuple(numpy.ndarray, numpy.ndarray)\n",
        "  X = tf.random.normal(size=num_examples)\n",
        "  noise = tf.random.normal(size=num_examples)\n",
        "  Y = X*w + b + noise\n",
        "  return X, Y"
      ],
      "execution_count": 0,
      "outputs": []
    },
    {
      "cell_type": "code",
      "metadata": {
        "id": "ZQhdEl9NefJM",
        "colab_type": "code",
        "outputId": "1db85935-19aa-471e-a6a1-8432239d0ce5",
        "colab": {
          "base_uri": "https://localhost:8080/",
          "height": 265
        }
      },
      "source": [
        "true_w = 3.0\n",
        "true_b = 2.0\n",
        "num_examples = 500\n",
        "X, Y = synthetic_linear_data(true_w, true_b, num_examples)\n",
        "plt.plot(X.numpy(), (X*true_w + true_b).numpy(), \"r-\")\n",
        "plt.plot(X.numpy(), Y.numpy(), \"b.\")\n",
        "\n",
        "learning_rate = 0.1"
      ],
      "execution_count": 6,
      "outputs": [
        {
          "output_type": "display_data",
          "data": {
            "image/png": "[encoded data removed]",
            "text/plain": [
              "<Figure size 432x288 with 1 Axes>"
            ]
          },
          "metadata": {
            "tags": []
          }
        }
      ]
    },
    {
      "cell_type": "code",
      "metadata": {
        "id": "ed7ROOvdelib",
        "colab_type": "code",
        "colab": {}
      },
      "source": [
        "# linear model\n",
        "def linear_model(X, W, b):\n",
        "    return tf.dot(X, W) + b\n",
        "\n",
        "\n",
        "# loss function\n",
        "def loss(Y_hat, Y):\n",
        "    return tf.reduce_mean(tf.square(Y_hat - Y) / 2)\n",
        "\n",
        "\n",
        "def apply_gradients(grads_and_vars):\n",
        "    for gradient, var in grads_and_vars:\n",
        "        var.assign_sub(learning_rate * gradient)"
      ],
      "execution_count": 0,
      "outputs": []
    },
    {
      "cell_type": "code",
      "metadata": {
        "id": "lD8caEENeobv",
        "colab_type": "code",
        "outputId": "da65a65d-88a3-4fe7-e638-95dcd62b01ee",
        "colab": {
          "base_uri": "https://localhost:8080/",
          "height": 187
        }
      },
      "source": [
        "# parameters to train\n",
        "w = tf.Variable(5.0)\n",
        "b = tf.Variable(0.0)\n",
        "parameters = [w, b]\n",
        "\n",
        "learning_rate = 0.1\n",
        "# train loop\n",
        "for epoch in range(10):\n",
        "    # forward pass\n",
        "    with tf.GradientTape() as tp:\n",
        "        Y_hat = linear_model(X, w, b)\n",
        "        current_loss = loss(Y_hat, Y)\n",
        "\n",
        "    gradients = tp.gradient(current_loss, parameters)\n",
        "\n",
        "    # apply gradient\n",
        "    apply_gradients(zip(gradients, parameters))\n",
        "\n",
        "    print('Epoch %2d: w=%1.2f b=%1.2f, loss=%2.5f' %\n",
        "          (epoch, w.numpy(), b.numpy(), current_loss.numpy()))"
      ],
      "execution_count": 8,
      "outputs": [
        {
          "output_type": "stream",
          "text": [
            "Epoch  0: w=4.80 b=0.20, loss=4.58056\n",
            "Epoch  1: w=4.62 b=0.38, loss=3.81995\n",
            "Epoch  2: w=4.46 b=0.55, loss=3.20029\n",
            "Epoch  3: w=4.31 b=0.69, loss=2.69545\n",
            "Epoch  4: w=4.18 b=0.83, loss=2.28415\n",
            "Epoch  5: w=4.06 b=0.95, loss=1.94904\n",
            "Epoch  6: w=3.95 b=1.05, loss=1.67601\n",
            "Epoch  7: w=3.85 b=1.15, loss=1.45356\n",
            "Epoch  8: w=3.77 b=1.24, loss=1.27231\n",
            "Epoch  9: w=3.69 b=1.32, loss=1.12463\n"
          ],
          "name": "stdout"
        }
      ]
    },
    {
      "cell_type": "code",
      "metadata": {
        "id": "qEK59i8Be62q",
        "colab_type": "code",
        "outputId": "27638f94-2c2e-4777-a960-c0a1cbc26cb3",
        "colab": {
          "base_uri": "https://localhost:8080/",
          "height": 282
        }
      },
      "source": [
        "plt.plot(X.numpy(), linear_model(X, true_w, true_b).numpy(), \"g-\")\n",
        "plt.plot(X.numpy(), linear_model(X, w, b).numpy(), \"r-\")\n",
        "plt.plot(X.numpy(), Y.numpy(), \"b.\")"
      ],
      "execution_count": 9,
      "outputs": [
        {
          "output_type": "execute_result",
          "data": {
            "text/plain": [
              "[<matplotlib.lines.Line2D at 0x7fc970a346d8>]"
            ]
          },
          "metadata": {
            "tags": []
          },
          "execution_count": 9
        },
        {
          "output_type": "display_data",
          "data": {
            "image/png": "[encoded data removed]",
            "text/plain": [
              "<Figure size 432x288 with 1 Axes>"
            ]
          },
          "metadata": {
            "tags": []
          }
        }
      ]
    }
  ]
}